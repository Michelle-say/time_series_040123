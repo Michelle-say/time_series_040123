{
 "cells": [
  {
   "cell_type": "code",
   "execution_count": 1,
   "metadata": {},
   "outputs": [],
   "source": [
    "import requests\n",
    "import datetime as dt\n",
    "from sqlalchemy.ext.declarative import declarative_base\n",
    "from sqlalchemy import create_engine\n",
    "from sqlalchemy import Column, Integer, String, DateTime\n"
   ]
  },
  {
   "cell_type": "code",
   "execution_count": 2,
   "metadata": {},
   "outputs": [],
   "source": [
    "engine = create_engine('sqlite:///db.sqlite')\n",
    "Base = declarative_base()\n",
    "\n",
    "class Hits(Base):\n",
    "    __tablename__ = \"hits\"\n",
    "\n",
    "    hit_id = Column(Integer, nullable=False, unique=True, autoincrement=True, primary_key=True)\n",
    "    year = Column(Integer)\n",
    "    month = Column(String)\n",
    "    day = Column(Integer)\n",
    "    day_of_week = Column(String)\n",
    "    nhits = Column(Integer)\n",
    "\n",
    "\n",
    "Base.metadata.create_all(engine)"
   ]
  },
  {
   "cell_type": "code",
   "execution_count": 3,
   "metadata": {},
   "outputs": [],
   "source": [
    "from sqlalchemy.orm import sessionmaker\n",
    "\n",
    "\n",
    "Session = sessionmaker(bind=engine)\n",
    "session = Session()\n",
    "\n",
    "\n",
    "import sqlite3\n",
    "database = sqlite3.connect(\"db.sqlite\")\n",
    "cur = database.cursor()\n",
    "\n",
    "years = [2013,2014,2015,2016,2017,2018,2019,2020,2021,2022,2023]\n",
    "months = ['01','02','03','04','05','06','07','08','09','10','11','12']\n",
    "\n",
    "for year in years :\n",
    "    for month in months:\n",
    "        URL = f\"https://ressources.data.sncf.com/api/records/1.0/search/?dataset=objets-trouves-restitution&q=&rows=10000&sort=date&facet=date&facet=gc_obo_date_heure_restitution_c&facet=gc_obo_gare_origine_r_name&facet=gc_obo_nature_c&facet=gc_obo_type_c&facet=gc_obo_nom_recordtype_sc_c&refine.gc_obo_gare_origine_r_name=Lille+Europe&refine.date={year}%2F{month}\"\n",
    "        d = requests.get(URL).json()\n",
    "\n",
    "        if 'facet_groups' in d :\n",
    "            hits = d[\"facet_groups\"][0]['facets'][0]['facets'][0]['facets']\n",
    "\n",
    "            for hit in hits:\n",
    "                    year = int(year)\n",
    "                    month = int(month)\n",
    "                    day = int(hit['name'])\n",
    "                    day_of_week = (dt.date(year, month, day)).strftime(\"%A\")\n",
    "                    nhits = int(hit['count'])\n",
    "                    session.add(Hits(year=year, month=month, day=day,day_of_week=day_of_week, nhits=nhits))\n",
    "\n",
    "session.commit()"
   ]
  },
  {
   "cell_type": "code",
   "execution_count": null,
   "metadata": {},
   "outputs": [],
   "source": []
  },
  {
   "cell_type": "code",
   "execution_count": null,
   "metadata": {},
   "outputs": [],
   "source": []
  }
 ],
 "metadata": {
  "kernelspec": {
   "display_name": "base",
   "language": "python",
   "name": "python3"
  },
  "language_info": {
   "codemirror_mode": {
    "name": "ipython",
    "version": 3
   },
   "file_extension": ".py",
   "mimetype": "text/x-python",
   "name": "python",
   "nbconvert_exporter": "python",
   "pygments_lexer": "ipython3",
   "version": "3.8.10"
  },
  "orig_nbformat": 4,
  "vscode": {
   "interpreter": {
    "hash": "a7394f03b39805bbda261521f0c4d400221cfe44ab64a3d1cee6f7d87c46742d"
   }
  }
 },
 "nbformat": 4,
 "nbformat_minor": 2
}
