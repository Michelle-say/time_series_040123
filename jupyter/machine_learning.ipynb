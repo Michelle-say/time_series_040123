{
 "cells": [
  {
   "cell_type": "code",
   "execution_count": 14,
   "metadata": {},
   "outputs": [],
   "source": [
    "import pandas as pd\n",
    "import  numpy as np\n",
    "import datetime\n",
    "from sklearn.model_selection import TimeSeriesSplit\n",
    "from xgboost import XGBRegressor\n",
    "from sklearn.preprocessing import OneHotEncoder, MinMaxScaler\n",
    "from sklearn.model_selection import cross_validate\n",
    "from sklearn.pipeline import make_pipeline\n",
    "from sklearn.compose import make_column_transformer"
   ]
  },
  {
   "cell_type": "code",
   "execution_count": 15,
   "metadata": {},
   "outputs": [],
   "source": [
    "df = pd.read_csv('../csv/sncf_clean.csv')"
   ]
  },
  {
   "cell_type": "code",
   "execution_count": 16,
   "metadata": {},
   "outputs": [],
   "source": [
    "df.drop(['restitution_date','nom', 'gare', 'type', 'nature'], axis=1, inplace=True)"
   ]
  },
  {
   "cell_type": "code",
   "execution_count": 17,
   "metadata": {},
   "outputs": [],
   "source": [
    "df = df.loc[df[\"year\"]<=2022]"
   ]
  },
  {
   "cell_type": "code",
   "execution_count": 18,
   "metadata": {},
   "outputs": [],
   "source": [
    "df1 = df.groupby(['date', 'year', 'month', 'week', 'day', 'day_of_week']).sum().reset_index()"
   ]
  },
  {
   "cell_type": "code",
   "execution_count": 19,
   "metadata": {},
   "outputs": [],
   "source": [
    "df1[\"date\"] = pd.to_datetime(df1[\"date\"])"
   ]
  },
  {
   "cell_type": "code",
   "execution_count": 20,
   "metadata": {},
   "outputs": [],
   "source": [
    "df = df1.copy()\n",
    "for i in range(1,4):\n",
    "    temp = df1.copy()\n",
    "    temp[\"date\"] = temp['date'].apply(lambda x: x + datetime.timedelta(days=i)) \n",
    "    temp.drop([\"year\", \"month\", \"day\",\"week\", \"day_of_week\"], axis=1, inplace=True)\n",
    "    temp.rename(columns={\"number\": f\"T-{i}\"}, inplace=True)\n",
    "    df = df.merge(temp, how='left', on='date')"
   ]
  },
  {
   "cell_type": "code",
   "execution_count": 21,
   "metadata": {},
   "outputs": [],
   "source": [
    "splits = TimeSeriesSplit(n_splits=5, gap=3)"
   ]
  },
  {
   "cell_type": "code",
   "execution_count": 22,
   "metadata": {},
   "outputs": [],
   "source": [
    "int_columns = [\"year\", \"T-1\", \"T-2\", \"T-3\"]\n",
    "categoricals_columns = [\"month\", \"week\", \"day_of_week\"]\n",
    "\n",
    "int_transformer = MinMaxScaler()\n",
    "categoricals_transformers = OneHotEncoder(handle_unknown='ignore')\n",
    "\n",
    "transformers = make_column_transformer((int_transformer, int_columns), (categoricals_transformers, categoricals_columns))"
   ]
  },
  {
   "cell_type": "code",
   "execution_count": 28,
   "metadata": {},
   "outputs": [
    {
     "name": "stdout",
     "output_type": "stream",
     "text": [
      "mae: 4.33 +/- 1.17\n",
      "rmse: 5.62 +/- 1.40\n"
     ]
    }
   ],
   "source": [
    "model = XGBRegressor(n_estimators = 10000, max_depth=16, max_leaves=0, learning_rate=0.0001, random_state=1)\n",
    "pipeline = make_pipeline(transformers, model)\n",
    "cv_results = cross_validate(pipeline,df.drop([\"number\"], axis=1), df[\"number\"], cv=splits, scoring=[\"neg_mean_absolute_error\", \"neg_root_mean_squared_error\"],)\n",
    "mae = -cv_results[\"test_neg_mean_absolute_error\"]\n",
    "rmse = -cv_results[\"test_neg_root_mean_squared_error\"]\n",
    "print(f\"mae: {mae.mean():.2f} +/- {mae.std():.2f}\")\n",
    "print(f\"rmse: {rmse.mean():.2f} +/- {rmse.std():.2f}\")"
   ]
  },
  {
   "cell_type": "code",
   "execution_count": null,
   "metadata": {},
   "outputs": [],
   "source": []
  }
 ],
 "metadata": {
  "kernelspec": {
   "display_name": "base",
   "language": "python",
   "name": "python3"
  },
  "language_info": {
   "codemirror_mode": {
    "name": "ipython",
    "version": 3
   },
   "file_extension": ".py",
   "mimetype": "text/x-python",
   "name": "python",
   "nbconvert_exporter": "python",
   "pygments_lexer": "ipython3",
   "version": "3.9.15"
  },
  "orig_nbformat": 4,
  "vscode": {
   "interpreter": {
    "hash": "7744a7408624008c4565fb8a15943be026f339818bc044582c26c2cf1ee52637"
   }
  }
 },
 "nbformat": 4,
 "nbformat_minor": 2
}
