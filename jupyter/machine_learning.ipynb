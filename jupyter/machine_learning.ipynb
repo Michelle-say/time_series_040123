{
 "cells": [
  {
   "cell_type": "code",
   "execution_count": 1,
   "metadata": {},
   "outputs": [],
   "source": [
    "import pandas as pd\n",
    "import  numpy as np\n",
    "import datetime\n",
    "from sklearn.model_selection import TimeSeriesSplit\n",
    "from xgboost import XGBRegressor\n",
    "from sklearn.preprocessing import OneHotEncoder, MinMaxScaler\n",
    "from sklearn.model_selection import cross_validate\n",
    "from sklearn.pipeline import make_pipeline\n",
    "from sklearn.compose import make_column_transformer"
   ]
  },
  {
   "cell_type": "code",
   "execution_count": 2,
   "metadata": {},
   "outputs": [],
   "source": [
    "df = pd.read_csv('../csv/sncf_clean.csv')"
   ]
  },
  {
   "cell_type": "code",
   "execution_count": 3,
   "metadata": {},
   "outputs": [],
   "source": [
    "df.drop(['restitution_date','nom', 'gare', 'type', 'nature'], axis=1, inplace=True)"
   ]
  },
  {
   "cell_type": "code",
   "execution_count": 4,
   "metadata": {},
   "outputs": [],
   "source": [
    "df = df.loc[df[\"year\"]<=2022]"
   ]
  },
  {
   "cell_type": "code",
   "execution_count": 5,
   "metadata": {},
   "outputs": [],
   "source": [
    "df1 = df.groupby(['date', 'year', 'month', 'week', 'day', 'day_of_week']).sum().reset_index()"
   ]
  },
  {
   "cell_type": "code",
   "execution_count": 6,
   "metadata": {},
   "outputs": [],
   "source": [
    "df1[\"date\"] = pd.to_datetime(df1[\"date\"])"
   ]
  },
  {
   "cell_type": "code",
   "execution_count": 7,
   "metadata": {},
   "outputs": [],
   "source": [
    "def create_t_x(data):\n",
    "    last_data = data.copy()\n",
    "    for i in range(1,4):\n",
    "        data_t = data.copy()\n",
    "        data_t[\"date\"] = data_t['date'].apply(lambda x: x + datetime.timedelta(days=i)) \n",
    "        data_t.drop([\"year\", \"month\", \"day\",\"week\", \"day_of_week\"], axis=1, inplace=True)\n",
    "        data_t.rename(columns={\"number\": f\"T-{i}\"}, inplace=True)\n",
    "        last_data = last_data.merge(data_t, how='left', on='date')\n",
    "    return last_data"
   ]
  },
  {
   "cell_type": "code",
   "execution_count": 8,
   "metadata": {},
   "outputs": [],
   "source": [
    "last_df = create_t_x(df1)"
   ]
  },
  {
   "cell_type": "code",
   "execution_count": 9,
   "metadata": {},
   "outputs": [],
   "source": [
    "splits = TimeSeriesSplit(n_splits=5, gap=3)"
   ]
  },
  {
   "cell_type": "code",
   "execution_count": 10,
   "metadata": {},
   "outputs": [],
   "source": [
    "int_columns = [\"year\", \"T-1\", \"T-2\", \"T-3\"]\n",
    "categoricals_columns = [\"month\", \"week\", \"day_of_week\"]\n",
    "\n",
    "int_transformer = MinMaxScaler()\n",
    "categoricals_transformers = OneHotEncoder(handle_unknown='ignore')\n",
    "\n",
    "transformers = make_column_transformer((int_transformer, int_columns), (categoricals_transformers, categoricals_columns))"
   ]
  },
  {
   "cell_type": "code",
   "execution_count": 11,
   "metadata": {},
   "outputs": [],
   "source": [
    "def evaluate(model, X, y, cv):\n",
    "    pipeline = make_pipeline(transformers, model)\n",
    "    cv_results = cross_validate(\n",
    "        pipeline,\n",
    "        X,\n",
    "        y,\n",
    "        cv=cv,\n",
    "        scoring=[\"neg_mean_absolute_error\", \"neg_root_mean_squared_error\"],\n",
    "    )\n",
    "    mae = -cv_results[\"test_neg_mean_absolute_error\"]\n",
    "    rmse = -cv_results[\"test_neg_root_mean_squared_error\"]\n",
    "    print(\n",
    "        f\"Mean Absolute Error:     {mae.mean():.3f} +/- {mae.std():.3f}\\n\"\n",
    "        f\"Root Mean Squared Error: {rmse.mean():.3f} +/- {rmse.std():.3f}\"\n",
    "    )\n",
    "    return mae.mean(), rmse.mean()"
   ]
  },
  {
   "cell_type": "code",
   "execution_count": 12,
   "metadata": {},
   "outputs": [
    {
     "name": "stdout",
     "output_type": "stream",
     "text": [
      "Mean Absolute Error:     4.331 +/- 1.169\n",
      "Root Mean Squared Error: 5.622 +/- 1.400\n"
     ]
    }
   ],
   "source": [
    "model = XGBRegressor(\n",
    "    n_estimators = 10000,\n",
    "    max_depth=16,\n",
    "    max_leaves=0,\n",
    "    learning_rate=0.0001,\n",
    "    random_state=1\n",
    ")\n",
    "mae, rmse = evaluate(model, last_df.drop([\"number\"], axis=1), last_df[\"number\"], cv=splits)"
   ]
  }
 ],
 "metadata": {
  "kernelspec": {
   "display_name": "base",
   "language": "python",
   "name": "python3"
  },
  "language_info": {
   "codemirror_mode": {
    "name": "ipython",
    "version": 3
   },
   "file_extension": ".py",
   "mimetype": "text/x-python",
   "name": "python",
   "nbconvert_exporter": "python",
   "pygments_lexer": "ipython3",
   "version": "3.8.10"
  },
  "orig_nbformat": 4,
  "vscode": {
   "interpreter": {
    "hash": "a7394f03b39805bbda261521f0c4d400221cfe44ab64a3d1cee6f7d87c46742d"
   }
  }
 },
 "nbformat": 4,
 "nbformat_minor": 2
}
